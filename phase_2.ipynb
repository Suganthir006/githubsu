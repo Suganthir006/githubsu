{
  "nbformat": 4,
  "nbformat_minor": 0,
  "metadata": {
    "colab": {
      "provenance": [],
      "authorship_tag": "ABX9TyMi+9eadsPV5xhT9QzLsQp1",
      "include_colab_link": true
    },
    "kernelspec": {
      "name": "python3",
      "display_name": "Python 3"
    },
    "language_info": {
      "name": "python"
    }
  },
  "cells": [
    {
      "cell_type": "markdown",
      "metadata": {
        "id": "view-in-github",
        "colab_type": "text"
      },
      "source": [
        "<a href=\"https://colab.research.google.com/github/Suganthir006/githubsu/blob/main/phase_2.ipynb\" target=\"_parent\"><img src=\"https://colab.research.google.com/assets/colab-badge.svg\" alt=\"Open In Colab\"/></a>"
      ]
    },
    {
      "cell_type": "code",
      "execution_count": 1,
      "metadata": {
        "colab": {
          "base_uri": "https://localhost:8080/"
        },
        "id": "QhI2E98k4K-g",
        "outputId": "b2345d25-bda4-47e3-9ac4-bab0649dbc28"
      },
      "outputs": [
        {
          "output_type": "stream",
          "name": "stdout",
          "text": [
            "Recommended item ID: 101\n"
          ]
        }
      ],
      "source": [
        "import pandas as pd\n",
        "from sklearn.ensemble import RandomForestClassifier\n",
        "from sklearn.model_selection import train_test_split\n",
        "\n",
        "# Sample dataset with user preferences and contextual factors\n",
        "data = {\n",
        "    'user_id': [1, 1, 1, 2, 2, 3, 3, 3],\n",
        "    'mood': ['happy', 'sad', 'happy', 'sad', 'happy', 'sad', 'happy', 'sad'],\n",
        "    'visual_style': ['colorful', 'minimalist', 'colorful', 'minimalist', 'colorful', 'minimalist', 'colorful', 'minimalist'],\n",
        "    'time_of_day': ['morning', 'afternoon', 'morning', 'afternoon', 'morning', 'afternoon', 'morning', 'afternoon'],\n",
        "    'social_setting': ['alone', 'with friends', 'alone', 'with friends', 'alone', 'with friends', 'alone', 'with friends'],\n",
        "    'item_id': [101, 102, 103, 101, 102, 103, 101, 102],\n",
        "    'rating': [5, 4, 5, 4, 5, 4, 5, 4]\n",
        "}\n",
        "\n",
        "df = pd.DataFrame(data)\n",
        "\n",
        "# Define features (X) and target variable (y)\n",
        "X = pd.get_dummies(df[['mood', 'visual_style', 'time_of_day', 'social_setting']])\n",
        "y = df['item_id']\n",
        "\n",
        "# Split data into training and testing sets\n",
        "X_train, X_test, y_train, y_test = train_test_split(X, y, test_size=0.2, random_state=42)\n",
        "\n",
        "# Train a random forest classifier\n",
        "rf = RandomForestClassifier(n_estimators=100, random_state=42)\n",
        "rf.fit(X_train, y_train)\n",
        "\n",
        "# Make predictions for a new user\n",
        "new_user_data = pd.DataFrame({\n",
        "    'mood': ['happy'],\n",
        "    'visual_style': ['colorful'],\n",
        "    'time_of_day': ['morning'],\n",
        "    'social_setting': ['alone']\n",
        "})\n",
        "\n",
        "new_user_data = pd.get_dummies(new_user_data)\n",
        "new_user_data = new_user_data.reindex(columns=X.columns, fill_value=0)\n",
        "\n",
        "predicted_item_id = rf.predict(new_user_data)\n",
        "\n",
        "print(\"Recommended item ID:\", predicted_item_id[0])"
      ]
    }
  ]
}